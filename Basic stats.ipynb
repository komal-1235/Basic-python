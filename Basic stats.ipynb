{
 "cells": [
  {
   "cell_type": "markdown",
   "id": "86fef4b8-0625-4b42-bc8f-178f16328704",
   "metadata": {},
   "source": [
    "# Import Libraries"
   ]
  },
  {
   "cell_type": "code",
   "execution_count": 2,
   "id": "54bbd362-d66d-4b12-9950-687b10cd7a42",
   "metadata": {},
   "outputs": [],
   "source": [
    "import pandas as pd\n",
    "import numpy as np\n",
    "import matplotlib.pyplot as plt\n",
    "import seaborn as sns\n",
    "from sklearn.preprocessing import StandardScaler"
   ]
  },
  {
   "cell_type": "markdown",
   "id": "468bf257-b233-4085-ae76-0b5de730f709",
   "metadata": {},
   "source": [
    "## Import Dataset"
   ]
  },
  {
   "cell_type": "code",
   "execution_count": 6,
   "id": "4f0d05c1-5f73-464e-9917-d10d57b0a22b",
   "metadata": {},
   "outputs": [],
   "source": [
    "data = pd.read_csv(\"sales_data_with_discounts.csv\")"
   ]
  },
  {
   "cell_type": "markdown",
   "id": "da2dee21-cec5-42b3-9c0e-a1378e8a25a7",
   "metadata": {},
   "source": [
    "## Analytics for Numerical Columns"
   ]
  },
  {
   "cell_type": "code",
   "execution_count": 7,
   "id": "fb4f328f-18de-4adb-b0fa-591318134c91",
   "metadata": {},
   "outputs": [
    {
     "name": "stdout",
     "output_type": "stream",
     "text": [
      "Numerical Columns Statistics:\n",
      "           Volume     Avg Price  Total Sales Value  Discount Rate (%)  \\\n",
      "count  450.000000    450.000000         450.000000         450.000000   \n",
      "mean     5.066667  10453.433333       33812.835556          15.155242   \n",
      "std      4.231602  18079.904840       50535.074173           4.220602   \n",
      "min      1.000000    290.000000         400.000000           5.007822   \n",
      "25%      3.000000    465.000000        2700.000000          13.965063   \n",
      "50%      4.000000   1450.000000        5700.000000          16.577766   \n",
      "75%      6.000000  10100.000000       53200.000000          18.114718   \n",
      "max     31.000000  60100.000000      196400.000000          19.992407   \n",
      "\n",
      "       Discount Amount  Net Sales Value  \n",
      "count       450.000000       450.000000  \n",
      "mean       3346.499424     30466.336131  \n",
      "std        4509.902963     46358.656624  \n",
      "min          69.177942       326.974801  \n",
      "25%         460.459304      2202.208645  \n",
      "50%         988.933733      4677.788059  \n",
      "75%        5316.495427     47847.912852  \n",
      "max       25738.022194    179507.479049  \n"
     ]
    }
   ],
   "source": [
    "numerical_columns = data.select_dtypes(include=['int64', 'float64']).columns\n",
    "print(\"Numerical Columns Statistics:\")\n",
    "print(data[numerical_columns].describe())"
   ]
  },
  {
   "cell_type": "code",
   "execution_count": null,
   "id": "1cabf529-2847-4948-b9b7-c9e180871252",
   "metadata": {},
   "outputs": [],
   "source": []
  },
  {
   "cell_type": "markdown",
   "id": "28633a52-6829-42a5-8df6-cf7f3db6a3db",
   "metadata": {},
   "source": [
    "# Data Visualization"
   ]
  },
  {
   "cell_type": "markdown",
   "id": "aacb56e7-edb8-4d4c-96db-b52dda246e3f",
   "metadata": {},
   "source": [
    "## Histograms"
   ]
  },
  {
   "cell_type": "code",
   "execution_count": 8,
   "id": "4128eb71-5e40-4f5f-9b76-ccd383c67115",
   "metadata": {},
   "outputs": [],
   "source": [
    "sns.set()"
   ]
  },
  {
   "cell_type": "code",
   "execution_count": 10,
   "id": "c2b8dafd-6d8d-40f6-97c4-1a75e0730a3e",
   "metadata": {},
   "outputs": [
    {
     "data": {
      "text/plain": [
       "<Figure size 640x480 with 0 Axes>"
      ]
     },
     "metadata": {},
     "output_type": "display_data"
    },
    {
     "data": {
      "text/plain": [
       "<Figure size 640x480 with 0 Axes>"
      ]
     },
     "metadata": {},
     "output_type": "display_data"
    },
    {
     "data": {
      "text/plain": [
       "<Figure size 640x480 with 0 Axes>"
      ]
     },
     "metadata": {},
     "output_type": "display_data"
    },
    {
     "data": {
      "text/plain": [
       "<Figure size 640x480 with 0 Axes>"
      ]
     },
     "metadata": {},
     "output_type": "display_data"
    },
    {
     "data": {
      "text/plain": [
       "<Figure size 640x480 with 0 Axes>"
      ]
     },
     "metadata": {},
     "output_type": "display_data"
    },
    {
     "data": {
      "text/plain": [
       "<Figure size 640x480 with 0 Axes>"
      ]
     },
     "metadata": {},
     "output_type": "display_data"
    }
   ],
   "source": [
    "for column in numerical_columns:\n",
    "    plt.figure(figure=(10,6))"
   ]
  },
  {
   "cell_type": "code",
   "execution_count": 11,
   "id": "e09bbdd2-9089-4222-8edc-2c10cc9f50a1",
   "metadata": {},
   "outputs": [
    {
     "data": {
      "image/png": "[encoded data removed]",
      "text/plain": [
       "<Figure size 640x480 with 1 Axes>"
      ]
     },
     "metadata": {},
     "output_type": "display_data"
    }
   ],
   "source": [
    "sns.boxplot(data[column])\n",
    "plt.title(f\"Boxplot of {column}\")\n",
    "plt.show()"
   ]
  },
  {
   "cell_type": "markdown",
   "id": "29b0ca2f-061c-4b21-9d0e-e5df74e6de36",
   "metadata": {},
   "source": [
    "## Boxplots"
   ]
  },
  {
   "cell_type": "code",
   "execution_count": 18,
   "id": "0f635ab1-3d6c-4216-80b6-aa2640874c00",
   "metadata": {},
   "outputs": [
    {
     "data": {
      "text/plain": [
       "<Figure size 1000x600 with 0 Axes>"
      ]
     },
     "metadata": {},
     "output_type": "display_data"
    },
    {
     "data": {
      "text/plain": [
       "<Figure size 1000x600 with 0 Axes>"
      ]
     },
     "metadata": {},
     "output_type": "display_data"
    },
    {
     "data": {
      "text/plain": [
       "<Figure size 1000x600 with 0 Axes>"
      ]
     },
     "metadata": {},
     "output_type": "display_data"
    },
    {
     "data": {
      "text/plain": [
       "<Figure size 1000x600 with 0 Axes>"
      ]
     },
     "metadata": {},
     "output_type": "display_data"
    },
    {
     "data": {
      "text/plain": [
       "<Figure size 1000x600 with 0 Axes>"
      ]
     },
     "metadata": {},
     "output_type": "display_data"
    },
    {
     "data": {
      "text/plain": [
       "<Figure size 1000x600 with 0 Axes>"
      ]
     },
     "metadata": {},
     "output_type": "display_data"
    }
   ],
   "source": [
    "for column in numerical_columns:\n",
    "    plt.figure(figsize=(10,6))"
   ]
  },
  {
   "cell_type": "code",
   "execution_count": 19,
   "id": "4e7640d7-a15c-4cd4-a41e-467d526d9386",
   "metadata": {},
   "outputs": [
    {
     "data": {
      "image/png": "[encoded data removed]",
      "text/plain": [
       "<Figure size 640x480 with 1 Axes>"
      ]
     },
     "metadata": {},
     "output_type": "display_data"
    }
   ],
   "source": [
    "\n",
    "    sns.boxplot(data[column])\n",
    "    plt.title(f\"Boxplot of {column}\")\n",
    "    plt.show()"
   ]
  },
  {
   "cell_type": "markdown",
   "id": "a31ecb88-8d1d-4602-8716-5a76e85e91a5",
   "metadata": {},
   "source": [
    "## Bar Chart Analysis for Categorical Column"
   ]
  },
  {
   "cell_type": "code",
   "execution_count": 32,
   "id": "ff8eb89b-aa1d-4346-bb68-58ea58b51cba",
   "metadata": {},
   "outputs": [
    {
     "data": {
      "text/plain": [
       "<Figure size 1000x600 with 0 Axes>"
      ]
     },
     "metadata": {},
     "output_type": "display_data"
    },
    {
     "data": {
      "text/plain": [
       "<Figure size 1000x600 with 0 Axes>"
      ]
     },
     "metadata": {},
     "output_type": "display_data"
    },
    {
     "data": {
      "text/plain": [
       "<Figure size 1000x600 with 0 Axes>"
      ]
     },
     "metadata": {},
     "output_type": "display_data"
    },
    {
     "data": {
      "text/plain": [
       "<Figure size 1000x600 with 0 Axes>"
      ]
     },
     "metadata": {},
     "output_type": "display_data"
    },
    {
     "data": {
      "text/plain": [
       "<Figure size 1000x600 with 0 Axes>"
      ]
     },
     "metadata": {},
     "output_type": "display_data"
    },
    {
     "data": {
      "text/plain": [
       "<Figure size 1000x600 with 0 Axes>"
      ]
     },
     "metadata": {},
     "output_type": "display_data"
    },
    {
     "data": {
      "text/plain": [
       "<Figure size 1000x600 with 0 Axes>"
      ]
     },
     "metadata": {},
     "output_type": "display_data"
    }
   ],
   "source": [
    "for column in categorical_columns:\n",
    "    plt.figure(figsize=(10,6))"
   ]
  },
  {
   "cell_type": "code",
   "execution_count": 33,
   "id": "e31eff83-36ca-4f17-a6bf-6036780b4e2c",
   "metadata": {},
   "outputs": [
    {
     "data": {
      "image/png": "[encoded data removed]",
      "text/plain": [
       "<Figure size 640x480 with 1 Axes>"
      ]
     },
     "metadata": {},
     "output_type": "display_data"
    }
   ],
   "source": [
    "    data[column].value_counts().plot(kind='bar')\n",
    "    plt.title(f\"Bar Chart of {column}\")\n",
    "    plt.xlabel(\"Category\")\n",
    "    plt.ylabel(\"Frequency\")\n",
    "    plt.show()\n"
   ]
  },
  {
   "cell_type": "markdown",
   "id": "76fd24f1-0930-4baf-b8c2-9870cca147e3",
   "metadata": {},
   "source": [
    "## Analyze the distribution of categories and provide insighte"
   ]
  },
  {
   "cell_type": "code",
   "execution_count": 34,
   "id": "5cf96d3a-efb9-435d-836e-ca0e681380d4",
   "metadata": {},
   "outputs": [
    {
     "name": "stdout",
     "output_type": "stream",
     "text": [
      "Distribution of Date:\n",
      "Date\n",
      "01-04-2021    30\n",
      "02-04-2021    30\n",
      "03-04-2021    30\n",
      "04-04-2021    30\n",
      "05-04-2021    30\n",
      "06-04-2021    30\n",
      "07-04-2021    30\n",
      "08-04-2021    30\n",
      "09-04-2021    30\n",
      "10-04-2021    30\n",
      "11-04-2021    30\n",
      "12-04-2021    30\n",
      "13-04-2021    30\n",
      "14-04-2021    30\n",
      "15-04-2021    30\n",
      "Name: count, dtype: int64\n",
      "Insights:\n",
      "- Number of unique categories: 15\n",
      "- Most frequent category: 01-04-2021\n",
      "- Least frequent category: 15-04-2021\n",
      "\n",
      "Distribution of Day:\n",
      "Day\n",
      "Thursday     90\n",
      "Friday       60\n",
      "Saturday     60\n",
      "Sunday       60\n",
      "Monday       60\n",
      "Tuesday      60\n",
      "Wednesday    60\n",
      "Name: count, dtype: int64\n",
      "Insights:\n",
      "- Number of unique categories: 7\n",
      "- Most frequent category: Thursday\n",
      "- Least frequent category: Wednesday\n",
      "\n",
      "Distribution of SKU:\n",
      "SKU\n",
      "M01    15\n",
      "M02    15\n",
      "L09    15\n",
      "L08    15\n",
      "L07    15\n",
      "L06    15\n",
      "L05    15\n",
      "L04    15\n",
      "L03    15\n",
      "L02    15\n",
      "L01    15\n",
      "F10    15\n",
      "F09    15\n",
      "F08    15\n",
      "F07    15\n",
      "F06    15\n",
      "F05    15\n",
      "F04    15\n",
      "F03    15\n",
      "F02    15\n",
      "F01    15\n",
      "M10    15\n",
      "M09    15\n",
      "M08    15\n",
      "M07    15\n",
      "M06    15\n",
      "M05    15\n",
      "M04    15\n",
      "M03    15\n",
      "L10    15\n",
      "Name: count, dtype: int64\n",
      "Insights:\n",
      "- Number of unique categories: 30\n",
      "- Most frequent category: F01\n",
      "- Least frequent category: L10\n",
      "\n",
      "Distribution of City:\n",
      "City\n",
      "C    450\n",
      "Name: count, dtype: int64\n",
      "Insights:\n",
      "- Number of unique categories: 1\n",
      "- Most frequent category: C\n",
      "- Least frequent category: C\n",
      "\n",
      "Distribution of BU:\n",
      "BU\n",
      "Mobiles      150\n",
      "FMCG         150\n",
      "Lifestyle    150\n",
      "Name: count, dtype: int64\n",
      "Insights:\n",
      "- Number of unique categories: 3\n",
      "- Most frequent category: FMCG\n",
      "- Least frequent category: Lifestyle\n",
      "\n",
      "Distribution of Brand:\n",
      "Brand\n",
      "Jeera      90\n",
      "Gear       60\n",
      "Viva       60\n",
      "RealU      45\n",
      "YouM       45\n",
      "Babaji     45\n",
      "Vedic      45\n",
      "Sumsang    30\n",
      "Orange     30\n",
      "Name: count, dtype: int64\n",
      "Insights:\n",
      "- Number of unique categories: 9\n",
      "- Most frequent category: Jeera\n",
      "- Least frequent category: Orange\n",
      "\n",
      "Distribution of Model:\n",
      "Model\n",
      "RU-10             15\n",
      "RU-9 Plus         15\n",
      "M-Formals         15\n",
      "W-Lounge          15\n",
      "W-Western         15\n",
      "M-Casuals         15\n",
      "M-Jeans           15\n",
      "W-Inners          15\n",
      "W-Casuals         15\n",
      "M- Inners         15\n",
      "M- T Shirts       15\n",
      "Gear BB Cream     15\n",
      "Gear Shampoo      15\n",
      "Gear Cream        15\n",
      "Gear Oil          15\n",
      "Vedic Oil         15\n",
      "Babaji Cream      15\n",
      "Babaji Shampoo    15\n",
      "Vedic Shampoo     15\n",
      "Vedic Cream       15\n",
      "Babaji Oil        15\n",
      "O-11              15\n",
      "O-10              15\n",
      "S-21              15\n",
      "S-20              15\n",
      "RU-9              15\n",
      "YM-98             15\n",
      "YM-99 Plus        15\n",
      "YM-99             15\n",
      "M-Shoes           15\n",
      "Name: count, dtype: int64\n",
      "Insights:\n",
      "- Number of unique categories: 30\n",
      "- Most frequent category: Babaji Cream\n",
      "- Least frequent category: M-Shoes\n",
      "\n"
     ]
    }
   ],
   "source": [
    "for column in categorical_columns:\n",
    "    print(f\"Distribution of {column}:\")\n",
    "    print(data[column].value_counts())\n",
    "    print(\"Insights:\")\n",
    "    print(f\"- Number of unique categories: {data[column].nunique()}\")\n",
    "    print(f\"- Most frequent category: {data[column].mode().values[0]}\")\n",
    "    print(f\"- Least frequent category: {data[column].value_counts().index[-1]}\")\n",
    "    print()\n",
    "\n",
    "\n"
   ]
  },
  {
   "cell_type": "markdown",
   "id": "e17809c6-e16d-4d2e-9080-5ef3089680e9",
   "metadata": {},
   "source": [
    "### Standardization of Numerical Variables\n"
   ]
  },
  {
   "cell_type": "code",
   "execution_count": 35,
   "id": "b472a327-4fcc-4e14-98f7-2a0631cfdc3e",
   "metadata": {},
   "outputs": [
    {
     "name": "stdout",
     "output_type": "stream",
     "text": [
      "Standardized Data:\n",
      "     Volume  Avg Price  Total Sales Value  Discount Rate (%)  Discount Amount  \\\n",
      "0  2.350029   0.091173           2.925721          -0.830289         3.952816   \n",
      "1  1.167129  -0.019570           1.330995          -0.852661         1.849014   \n",
      "2  0.457388   0.312659           1.562775          -1.351631         1.622995   \n",
      "3  0.220808   0.534146           1.719276          -1.949723         1.113807   \n",
      "4 -0.488932  -0.130313          -0.188452           0.673739         0.227852   \n",
      "\n",
      "   Net Sales Value  \n",
      "0         2.804756  \n",
      "1         1.271026  \n",
      "2         1.545675  \n",
      "3         1.765810  \n",
      "4        -0.227595  \n"
     ]
    }
   ],
   "source": [
    "scaler = StandardScaler()\n",
    "data_std = scaler.fit_transform(data[numerical_columns])\n",
    "data_std = pd.DataFrame(data_std, columns=numerical_columns)\n",
    "print(\"Standardized Data:\")\n",
    "print(data_std.head())\n"
   ]
  },
  {
   "cell_type": "markdown",
   "id": "2ff78d9a-a443-4cef-bd36-a2f3f78cf534",
   "metadata": {},
   "source": [
    "## Conversion of Categorical Data into Dummy Variables\n"
   ]
  },
  {
   "cell_type": "code",
   "execution_count": 36,
   "id": "26551291-df99-4c1b-b963-4cb18e93d47b",
   "metadata": {},
   "outputs": [
    {
     "name": "stdout",
     "output_type": "stream",
     "text": [
      "Dummy Variables:\n",
      "   Volume  Avg Price  Total Sales Value  Discount Rate (%)  Discount Amount  \\\n",
      "0      15      12100             181500          11.654820     21153.498820   \n",
      "1      10      10100             101000          11.560498     11676.102961   \n",
      "2       7      16100             112700           9.456886     10657.910157   \n",
      "3       6      20100             120600           6.935385      8364.074702   \n",
      "4       3       8100              24300          17.995663      4372.946230   \n",
      "\n",
      "   Net Sales Value  Date_01-04-2021  Date_02-04-2021  Date_03-04-2021  \\\n",
      "0    160346.501180             True            False            False   \n",
      "1     89323.897039             True            False            False   \n",
      "2    102042.089843             True            False            False   \n",
      "3    112235.925298             True            False            False   \n",
      "4     19927.053770             True            False            False   \n",
      "\n",
      "   Date_04-04-2021  ...  Model_Vedic Cream  Model_Vedic Oil  \\\n",
      "0            False  ...              False            False   \n",
      "1            False  ...              False            False   \n",
      "2            False  ...              False            False   \n",
      "3            False  ...              False            False   \n",
      "4            False  ...              False            False   \n",
      "\n",
      "   Model_Vedic Shampoo  Model_W-Casuals  Model_W-Inners  Model_W-Lounge  \\\n",
      "0                False            False           False           False   \n",
      "1                False            False           False           False   \n",
      "2                False            False           False           False   \n",
      "3                False            False           False           False   \n",
      "4                False            False           False           False   \n",
      "\n",
      "   Model_W-Western  Model_YM-98   Model_YM-99  Model_YM-99 Plus  \n",
      "0            False         False        False             False  \n",
      "1            False         False        False             False  \n",
      "2            False         False         True             False  \n",
      "3            False         False        False              True  \n",
      "4            False          True        False             False  \n",
      "\n",
      "[5 rows x 101 columns]\n"
     ]
    }
   ],
   "source": [
    "data_dummy = pd.get_dummies(data, columns=categorical_columns)\n",
    "print(\"Dummy Variables:\")\n",
    "print(data_dummy.head())\n",
    "\n"
   ]
  },
  {
   "cell_type": "markdown",
   "id": "7ce28f12-f85d-4ba5-aa25-722cacf03bc0",
   "metadata": {},
   "source": [
    "## Conclusion"
   ]
  },
  {
   "cell_type": "code",
   "execution_count": 39,
   "id": "d3394e80-b858-4d26-ace0-c0bb53410a30",
   "metadata": {},
   "outputs": [
    {
     "name": "stdout",
     "output_type": "stream",
     "text": [
      "Key findings from descriptive analytics and data visualizations:\n",
      "- Mean, median, mode, and standard deviation of numerical columns\n",
      "- Distribution and relationship of numerical and categorical variables\n",
      "- Outliers and extreme values in numerical columns\n",
      "- Importance of standardization and one-hot encoding in data analysis and machine learning\n"
     ]
    }
   ],
   "source": [
    "print(\"Key findings from descriptive analytics and data visualizations:\")\n",
    "print(\"- Mean, median, mode, and standard deviation of numerical columns\")\n",
    "print(\"- Distribution and relationship of numerical and categorical variables\")\n",
    "print(\"- Outliers and extreme values in numerical columns\")\n",
    "print(\"- Importance of standardization and one-hot encoding in data analysis and machine learning\")\n",
    "\n"
   ]
  },
  {
   "cell_type": "code",
   "execution_count": null,
   "id": "d00a3134-0119-4969-9bca-5ced5f42e282",
   "metadata": {},
   "outputs": [],
   "source": []
  }
 ],
 "metadata": {
  "kernelspec": {
   "display_name": "Python 3 (ipykernel)",
   "language": "python",
   "name": "python3"
  },
  "language_info": {
   "codemirror_mode": {
    "name": "ipython",
    "version": 3
   },
   "file_extension": ".py",
   "mimetype": "text/x-python",
   "name": "python",
   "nbconvert_exporter": "python",
   "pygments_lexer": "ipython3",
   "version": "3.11.9"
  }
 },
 "nbformat": 4,
 "nbformat_minor": 5
}
