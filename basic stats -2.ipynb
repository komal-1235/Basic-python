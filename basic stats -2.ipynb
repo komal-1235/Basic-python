{
 "cells": [
  {
   "cell_type": "markdown",
   "id": "af0c8afa-1660-431c-a1f5-3d0e03850896",
   "metadata": {},
   "source": [
    "# Estimation And Confidence Intervals"
   ]
  },
  {
   "cell_type": "markdown",
   "id": "704928e8-47e7-4e36-bfea-223c5efa9633",
   "metadata": {},
   "source": [
    "### Task A:"
   ]
  },
  {
   "cell_type": "raw",
   "id": "57c76c2c-42e3-43d7-9390-2e2704cfa501",
   "metadata": {},
   "source": [
    "Build 99% Confidence Interval Using Sample Deviation"
   ]
  },
  {
   "cell_type": "code",
   "execution_count": 1,
   "id": "08d615db-ad6f-4ccd-9615-fd6bcb7e42cf",
   "metadata": {},
   "outputs": [],
   "source": [
    "import numpy as np\n",
    "from scipy import stats"
   ]
  },
  {
   "cell_type": "markdown",
   "id": "d181732c-694a-4dba-9214-b027acc7f20c",
   "metadata": {},
   "source": [
    "## Data"
   ]
  },
  {
   "cell_type": "code",
   "execution_count": 2,
   "id": "05b7c4ed-1584-4bc6-a300-8e95696afbcc",
   "metadata": {},
   "outputs": [],
   "source": [
    "data = np.array([1.13,1.55,1.43,0.92,1.25,1.36,1.32,0.85,1.07,1.48,1.20,1.33,1.18,1.22,1.29])"
   ]
  },
  {
   "cell_type": "code",
   "execution_count": 3,
   "id": "064cee75-2d3e-400a-8530-d543506b675e",
   "metadata": {},
   "outputs": [],
   "source": [
    "# Calculate sample mean and standard deviation\n",
    "sample_mean = np.mean(data)\n",
    "sample_std_dev = np.std(data, ddof=1)"
   ]
  },
  {
   "cell_type": "code",
   "execution_count": 4,
   "id": "ed2a1ef8-9834-4484-9bb8-e325e5fafa2d",
   "metadata": {},
   "outputs": [],
   "source": [
    "# Calculate degrees of freedom\n",
    "df = len(data) - 1"
   ]
  },
  {
   "cell_type": "code",
   "execution_count": 5,
   "id": "b50d7290-338d-4e93-a50d-91cfb0b5bdb4",
   "metadata": {},
   "outputs": [],
   "source": [
    "# Calculate critical t -value for 99% confidence interval\n",
    "alpha = 0.01\n",
    "critical_t = stats.t.ppf(1 - alpha/2, df)"
   ]
  },
  {
   "cell_type": "code",
   "execution_count": 6,
   "id": "6dcadf03-4d54-456a-a663-4243d7bb1cf6",
   "metadata": {},
   "outputs": [],
   "source": [
    "# Calculate margin of error\n",
    "margin_of_error = critical_t * (sample_std_dev / np.sqrt(len(data)))"
   ]
  },
  {
   "cell_type": "code",
   "execution_count": 7,
   "id": "df0d39f6-a7a5-4fc8-a0ee-5c8e11546c33",
   "metadata": {},
   "outputs": [],
   "source": [
    "# Construct 99% confidence interval\n",
    "lower_bound = sample_mean - margin_of_error\n",
    "upper_bound = sample_mean + margin_of_error"
   ]
  },
  {
   "cell_type": "code",
   "execution_count": 8,
   "id": "b5bde1b1-891a-46de-8019-f2e5a4e868b4",
   "metadata": {},
   "outputs": [
    {
     "name": "stdout",
     "output_type": "stream",
     "text": [
      "99% Confidence Interval: (1.09, 1.39)\n"
     ]
    }
   ],
   "source": [
    "print(f\"99% Confidence Interval: ({lower_bound:.2f}, {upper_bound:.2f})\")"
   ]
  },
  {
   "cell_type": "markdown",
   "id": "3c2ab43f-0b92-44ab-820d-819d6693a1e5",
   "metadata": {},
   "source": [
    "### Task B:"
   ]
  },
  {
   "cell_type": "raw",
   "id": "fea6eb00-5710-434c-86f3-7d1930ffce50",
   "metadata": {},
   "source": [
    "Build 99% Confidence Interval Using Known Population Standard Deviation"
   ]
  },
  {
   "cell_type": "code",
   "execution_count": 10,
   "id": "1d8b49b7-9291-4edb-8541-7f9958a32b0f",
   "metadata": {},
   "outputs": [],
   "source": [
    "import numpy as np\n",
    "from scipy import stats"
   ]
  },
  {
   "cell_type": "markdown",
   "id": "79ba9b90-83bd-46d0-b5c1-14a8db682f08",
   "metadata": {},
   "source": [
    "## Data"
   ]
  },
  {
   "cell_type": "code",
   "execution_count": 12,
   "id": "5a9978b1-a673-4041-bee8-90db8cc58893",
   "metadata": {},
   "outputs": [],
   "source": [
    "data = np.array([1.13,1.55,1.43,0.92,1.25,1.36,1.32,0.85,1.07,1.48,1.20,1.33,1.18,1.22,1.29])"
   ]
  },
  {
   "cell_type": "code",
   "execution_count": 13,
   "id": "a94fd8be-82e1-4d49-a358-f5a7110fe72a",
   "metadata": {},
   "outputs": [],
   "source": [
    "# population standard deviation\n",
    "population_std_dev = 0.2"
   ]
  },
  {
   "cell_type": "code",
   "execution_count": 14,
   "id": "d2a3fb4d-dfa4-459b-b4d2-72db38a48e90",
   "metadata": {},
   "outputs": [],
   "source": [
    "# Calculate sample mean\n",
    "sample_mean = np.mean(data)"
   ]
  },
  {
   "cell_type": "code",
   "execution_count": 15,
   "id": "7f39819c-3581-43c7-8205-b716c8deddf3",
   "metadata": {},
   "outputs": [],
   "source": [
    "# Calculate critical z-value for 99% confidence interval\n",
    "alpha = 0.01\n",
    "critical_z = stats.norm.ppf(1 - alpha/2)"
   ]
  },
  {
   "cell_type": "code",
   "execution_count": 16,
   "id": "2307c79c-cac2-4891-bfe8-f81c56418bc3",
   "metadata": {},
   "outputs": [],
   "source": [
    "# Calculate margin of error\n",
    "margin_of_error = critical_z * (population_std_dev / np.sqrt(len(data)))"
   ]
  },
  {
   "cell_type": "code",
   "execution_count": 17,
   "id": "d2e3a97c-9ff7-40de-950a-90c6a7d440e5",
   "metadata": {},
   "outputs": [],
   "source": [
    "# Construct 99% confidence interval\n",
    "lower_bound = sample_mean - margin_of_error\n",
    "upper_bound = sample_mean + margin_of_error"
   ]
  },
  {
   "cell_type": "code",
   "execution_count": 18,
   "id": "72dab2ae-b592-41f4-896d-8ff0f08665d0",
   "metadata": {},
   "outputs": [
    {
     "name": "stdout",
     "output_type": "stream",
     "text": [
      "99% Confidence Interval: (1.11, 1.37)\n"
     ]
    }
   ],
   "source": [
    "print(f\"99% Confidence Interval: ({lower_bound:.2f}, {upper_bound:.2f})\")"
   ]
  },
  {
   "cell_type": "code",
   "execution_count": null,
   "id": "10a0ff0e-5a85-4f05-8958-19572cd24b32",
   "metadata": {},
   "outputs": [],
   "source": []
  },
  {
   "cell_type": "code",
   "execution_count": null,
   "id": "e8aef2fd-a79a-4899-bfce-252941618220",
   "metadata": {},
   "outputs": [],
   "source": []
  },
  {
   "cell_type": "code",
   "execution_count": null,
   "id": "95ff8203-8d83-492a-a288-8a15900b7c59",
   "metadata": {},
   "outputs": [],
   "source": []
  },
  {
   "cell_type": "code",
   "execution_count": null,
   "id": "6a4f7da9-2e97-4a07-a9e7-d34cb4c3dffc",
   "metadata": {},
   "outputs": [],
   "source": []
  },
  {
   "cell_type": "code",
   "execution_count": null,
   "id": "99a99715-023b-4b89-aaf4-2edbb20a2ddb",
   "metadata": {},
   "outputs": [],
   "source": []
  },
  {
   "cell_type": "code",
   "execution_count": null,
   "id": "86abdf48-db9d-4962-921f-dd2b1750c1ea",
   "metadata": {},
   "outputs": [],
   "source": []
  }
 ],
 "metadata": {
  "kernelspec": {
   "display_name": "Python 3 (ipykernel)",
   "language": "python",
   "name": "python3"
  },
  "language_info": {
   "codemirror_mode": {
    "name": "ipython",
    "version": 3
   },
   "file_extension": ".py",
   "mimetype": "text/x-python",
   "name": "python",
   "nbconvert_exporter": "python",
   "pygments_lexer": "ipython3",
   "version": "3.11.9"
  }
 },
 "nbformat": 4,
 "nbformat_minor": 5
}
