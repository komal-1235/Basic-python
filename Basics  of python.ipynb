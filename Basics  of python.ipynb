{
 "cells": [
  {
   "cell_type": "markdown",
   "id": "2a506920-d9a0-408d-aeda-5f96f2e0edeb",
   "metadata": {},
   "source": [
    "## Exercise 1: Prime Numbers"
   ]
  },
  {
   "cell_type": "code",
   "execution_count": 1,
   "id": "ca140a8b-b80c-409d-aa8e-cd2e5b28bb8c",
   "metadata": {},
   "outputs": [],
   "source": [
    "def is_prime(n):\n",
    "    \"\"\"Check if a number is prime.\"\"\"\n",
    "    if n <= 1:\n",
    "        return False\n",
    "    for i in range(2, int(n**0.5) + 1):\n",
    "        if n % i == 0:\n",
    "            return False\n",
    "    return True"
   ]
  },
  {
   "cell_type": "code",
   "execution_count": 3,
   "id": "28e66561-1c4d-42eb-b575-d2c62229b439",
   "metadata": {},
   "outputs": [
    {
     "name": "stdin",
     "output_type": "stream",
     "text": [
      "Enter a number:  23\n"
     ]
    },
    {
     "name": "stdout",
     "output_type": "stream",
     "text": [
      "23 is a prime number. \n"
     ]
    }
   ],
   "source": [
    "num = int(input(\"Enter a number: \"))\n",
    "if is_prime(num):\n",
    "    print(f\"{num} is a prime number. \")\n",
    "else:\n",
    "    print(f\"{num} is not a prime number.\")"
   ]
  },
  {
   "cell_type": "markdown",
   "id": "a8c62d06-1e37-4db4-9ded-95def80a633c",
   "metadata": {},
   "source": [
    "## Exercise 2: Product of Random Numbers"
   ]
  },
  {
   "cell_type": "code",
   "execution_count": 13,
   "id": "963b58bd-53ee-4b51-a7ab-1fb1a50afb2d",
   "metadata": {},
   "outputs": [
    {
     "name": "stdout",
     "output_type": "stream",
     "text": [
      "What is the product of 7 and 5?\n"
     ]
    },
    {
     "name": "stdin",
     "output_type": "stream",
     "text": [
      "Enter your answer:  6\n"
     ]
    }
   ],
   "source": [
    "import random\n",
    "num1 = random.randint(1, 10)\n",
    "num2 = random.randint(1, 10)\n",
    "print(f\"What is the product of {num1} and {num2}?\")\n",
    "user_answer = int(input(\"Enter your answer: \"))"
   ]
  },
  {
   "cell_type": "markdown",
   "id": "df92d98d-5798-490a-9585-9a3f3423b6c9",
   "metadata": {},
   "source": [
    "## Exercise 3: Squares of Even Numbers"
   ]
  },
  {
   "cell_type": "code",
   "execution_count": 15,
   "id": "3a355f2d-26f8-462c-aef4-5cdf4cacd2ee",
   "metadata": {},
   "outputs": [
    {
     "name": "stdout",
     "output_type": "stream",
     "text": [
      "100^2 = 10000\n",
      "102^2 = 10404\n",
      "104^2 = 10816\n",
      "106^2 = 11236\n",
      "108^2 = 11664\n",
      "110^2 = 12100\n",
      "112^2 = 12544\n",
      "114^2 = 12996\n",
      "116^2 = 13456\n",
      "118^2 = 13924\n",
      "120^2 = 14400\n",
      "122^2 = 14884\n",
      "124^2 = 15376\n",
      "126^2 = 15876\n",
      "128^2 = 16384\n",
      "130^2 = 16900\n",
      "132^2 = 17424\n",
      "134^2 = 17956\n",
      "136^2 = 18496\n",
      "138^2 = 19044\n",
      "140^2 = 19600\n",
      "142^2 = 20164\n",
      "144^2 = 20736\n",
      "146^2 = 21316\n",
      "148^2 = 21904\n",
      "150^2 = 22500\n",
      "152^2 = 23104\n",
      "154^2 = 23716\n",
      "156^2 = 24336\n",
      "158^2 = 24964\n",
      "160^2 = 25600\n",
      "162^2 = 26244\n",
      "164^2 = 26896\n",
      "166^2 = 27556\n",
      "168^2 = 28224\n",
      "170^2 = 28900\n",
      "172^2 = 29584\n",
      "174^2 = 30276\n",
      "176^2 = 30976\n",
      "178^2 = 31684\n",
      "180^2 = 32400\n",
      "182^2 = 33124\n",
      "184^2 = 33856\n",
      "186^2 = 34596\n",
      "188^2 = 35344\n",
      "190^2 = 36100\n",
      "192^2 = 36864\n",
      "194^2 = 37636\n",
      "196^2 = 38416\n",
      "198^2 = 39204\n",
      "200^2 = 40000\n"
     ]
    }
   ],
   "source": [
    "# Choose even numbers\n",
    "for i in range(100, 201, 2):\n",
    "    print(f\"{i}^2 = {i**2}\")"
   ]
  },
  {
   "cell_type": "markdown",
   "id": "43bd5e0d-5160-4a9a-b464-b5124d85dbcb",
   "metadata": {},
   "source": [
    "## Exercise 4: Word Counter"
   ]
  },
  {
   "cell_type": "code",
   "execution_count": 16,
   "id": "cae99d05-9b3d-477b-af0e-cba4aeb9e9b8",
   "metadata": {},
   "outputs": [],
   "source": [
    "def word_counter(text):\n",
    "    \"\"\"Count the occurrences of each word in a text.\"\"\"\n",
    "    words = text.lower().split()\n",
    "    word_count = {}\n",
    "    for word in words:\n",
    "        word = word.strip('.,!?;:\"\\'')\n",
    "        if word in word_count:\n",
    "            word_count[word] += 1\n",
    "        else:\n",
    "            word_count[word] = 1\n",
    "    return word_count"
   ]
  },
  {
   "cell_type": "code",
   "execution_count": 17,
   "id": "c86f92dd-0e6f-4330-876c-b1b75bf3f021",
   "metadata": {},
   "outputs": [
    {
     "name": "stdout",
     "output_type": "stream",
     "text": [
      "{'this': 2, 'is': 1, 'a': 1, 'sample': 1, 'text': 2, 'will': 1, 'be': 1, 'used': 1, 'to': 1, 'demonstrate': 1, 'the': 1, 'word': 1, 'counter': 1}\n"
     ]
    }
   ],
   "source": [
    "input_text = \"This is a sample text. This text will be used to demonstrate the word counter.\"\n",
    "print(word_counter(input_text))"
   ]
  },
  {
   "cell_type": "markdown",
   "id": "9f63135c-4689-4fcc-bd55-4211f62ccc21",
   "metadata": {},
   "source": [
    "## Exercise 5:  Check for Palindrome"
   ]
  },
  {
   "cell_type": "code",
   "execution_count": 19,
   "id": "06a154f1-5267-4f3b-8430-a7199e905361",
   "metadata": {},
   "outputs": [
    {
     "name": "stdout",
     "output_type": "stream",
     "text": [
      "True\n"
     ]
    }
   ],
   "source": [
    "def is_palindrome(s):\n",
    "    \"\"\"Check if a string is a palindrome.\"\"\"\n",
    "    s = ''.join(c for c in s if c.isalnum()).lower()\n",
    "    return s == s[::-1]\n",
    "\n",
    "print(is_palindrome(\"racecar\"))"
   ]
  },
  {
   "cell_type": "code",
   "execution_count": null,
   "id": "02392ed0-2bd9-4ea3-9e75-bb537090249d",
   "metadata": {},
   "outputs": [],
   "source": []
  }
 ],
 "metadata": {
  "kernelspec": {
   "display_name": "Python 3 (ipykernel)",
   "language": "python",
   "name": "python3"
  },
  "language_info": {
   "codemirror_mode": {
    "name": "ipython",
    "version": 3
   },
   "file_extension": ".py",
   "mimetype": "text/x-python",
   "name": "python",
   "nbconvert_exporter": "python",
   "pygments_lexer": "ipython3",
   "version": "3.11.9"
  }
 },
 "nbformat": 4,
 "nbformat_minor": 5
}
